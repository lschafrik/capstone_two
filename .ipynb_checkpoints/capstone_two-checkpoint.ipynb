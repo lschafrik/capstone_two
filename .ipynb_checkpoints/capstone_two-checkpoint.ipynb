{
 "cells": [
  {
   "cell_type": "markdown",
   "metadata": {},
   "source": [
    "![Rent_the_Runway_Logo%20copy.png](pictures/Rent_the_Runway_Logo%20copy.png)"
   ]
  },
  {
   "cell_type": "markdown",
   "metadata": {},
   "source": [
    "# Overview\n",
    "***"
   ]
  },
  {
   "cell_type": "markdown",
   "metadata": {},
   "source": [
    "### Background\n",
    "- Rent the Runway was officially founded in 2009, and now boasts over 9 million members.  According to their site, Rent the Runway was founded in order to bring empowerment and self-confidence to women around the world by providing an unlimited closet with which users can freely express themselves and dress for success.  Rent the Runway's shared closet means greater sustainability - 89% of users buy fewer clothes than they used to, and garments are used to the extent of their lifecycle, after which they may be donated to various organizations.  The company also launched their 'Rent the Runway Foundation' in 2015, whose mission is to encourage women in entrepreneurship."
   ]
  },
  {
   "cell_type": "markdown",
   "metadata": {},
   "source": [
    "### Data\n",
    "- I found the initial dataset on Kaggle, which can be viewed [here](https://www.kaggle.com/rmisra/clothing-fit-dataset-for-size-recommendation).  The dataset includes __192,544__ total entries and columns such as *rating, review_text, and review_summary*\n",
    "- Each row corresponds with a user's review of their garment rental, with data gathered from 2011 to 2018, and includes their basic profile information.\n",
    "- Previously ([Capstone One](https://github.com/lschafrik/capstone_one)), NaN values were removed, and columns such as weight, height, and date were transformed into numerical values.  Moving forward, this is the data used.\n",
    "\n",
    "![Screen%20Shot%202020-02-07%20at%2012.08.58%20PM.png](pictures/Screen%20Shot%202020-02-07%20at%2012.08.58%20PM.png)"
   ]
  },
  {
   "cell_type": "markdown",
   "metadata": {},
   "source": [
    "# Creating a Model\n",
    "***\n",
    "<u>The Question:</u> __*Can I predict a user's rating based on review_summary and review_text?*__"
   ]
  },
  {
   "cell_type": "markdown",
   "metadata": {},
   "source": [
    "### Preparing the Data\n",
    "- The rating options are as follows: 2, 4, 6, 8, or 10, with 2 as the lowest score possible.\n",
    "\n",
    "\n",
    "- I initially attempted to fit my entire dataset (after putting it through train_test_split) to a model.  This became an issue, as my computer couldn't handle this and crashed multiple times.  I also realized that my data was wildly imbalanced.\n",
    "    - *I resolved this issue by creating a function to __randomly sample a specified amount of data per rating__.  Not only did this save my poor computer, it also improved my model's score - neat!  After some inquiry, I found that randomly sampling __700 entries per rating__ best improved my model.*\n",
    "    \n",
    "![Screen%20Shot%202020-02-07%20at%2012.24.49%20PM.png](pictures/Screen%20Shot%202020-02-07%20at%2012.24.49%20PM.png)"
   ]
  },
  {
   "cell_type": "markdown",
   "metadata": {},
   "source": [
    "- I found, after running my sampled data through an NLP pipeline, that a number of results were empty, which I corrected in two parts.\n",
    "    - *First, I noticed many users entered only one or two words as their review, or treated the review_summary as the review_text, entering their entire review into the summary box and only one or two words into the text box.  Because of this, I __combined the two columns__ and treated it as one full review.*\n",
    "    \n",
    "![Screen%20Shot%202020-02-07%20at%201.10.19%20PM.png](pictures/Screen%20Shot%202020-02-07%20at%201.10.19%20PM.png)"
   ]
  },
  {
   "cell_type": "markdown",
   "metadata": {},
   "source": [
    "- This definitely helped, but there was still another issue to face.\n",
    "    - *Second, I found that even with this fix, many reviews were empty or contained a very small amount of words, which negatively affected my model.  I corrected this by creating a function to __remove a row if the word count fell below a specified minimum count.__  I found specifying a __minimum of 8 words__ gave me the best results.*\n",
    "        - Interestingly, the majority of rows dropped had the lowest rating.\n",
    "    \n",
    "![Screen%20Shot%202020-02-07%20at%2012.35.30%20PM.png](pictures/Screen%20Shot%202020-02-07%20at%2012.35.30%20PM.png)"
   ]
  },
  {
   "cell_type": "markdown",
   "metadata": {},
   "source": [
    "### Fitting the Data to a Model\n",
    "- I created an NLP pipeline, running the text-summary data through CountVectorizer and TfidfTransformer, taking a moment to study a comparison of key words between the lowest and highest ratings.\n",
    "\n",
    "![Screen%20Shot%202020-02-07%20at%2012.52.47%20PM.png](pictures/Screen%20Shot%202020-02-07%20at%2012.52.47%20PM.png)"
   ]
  },
  {
   "cell_type": "markdown",
   "metadata": {},
   "source": [
    "### Tweaking the Model\n",
    "- My first attempts were using a Classifier, but as my ratings were numeric I switched to Regressor models\n",
    "    - *I compared a Gradient Boosting Regressor model with a Random Forest Regressor and found the Gradient Boosting model gave me the best results from my training and testing data with the following parameters.*\n",
    "    \n",
    "![Screen%20Shot%202020-02-07%20at%2012.56.38%20PM.png](pictures/Screen%20Shot%202020-02-07%20at%2012.56.38%20PM.png)"
   ]
  },
  {
   "cell_type": "markdown",
   "metadata": {},
   "source": [
    "- Since the model predictions were continuous numeric results, I considered any prediction within a 0.5 range on either side of the actual rating as ‘accurate’, and graphed these results.\n",
    "    - *Again, we see here that the lowest rating shows interesting results.  The model also has trouble predicting a rating of 10 with the testing data.  One thing we do have to keep in mind here is that there are no predictions lower than 2 or higher than 10, so that could certainly be affecting these results.*\n",
    "\n",
    "![Screen%20Shot%202020-02-07%20at%201.00.15%20PM.png](pictures/Screen%20Shot%202020-02-07%20at%201.00.15%20PM.png)"
   ]
  },
  {
   "cell_type": "markdown",
   "metadata": {},
   "source": [
    "# Conclusion\n",
    "***"
   ]
  },
  {
   "cell_type": "markdown",
   "metadata": {},
   "source": [
    "### *After this capstone, what suggestions would you provide for improvements?*\n",
    "- I would recommend __limiting the character count for the review_summary box__, as some users would put one or two words here and their full review in the review_text box, and others would do exactly the opposite.\n",
    "\n",
    "\n",
    "### *What future improvements or inquiries would you pursue?*\n",
    "- I would see how well I could predict other features using the text-summary column\n",
    "- I would determine the impact the other columns have on a user’s rating\n",
    "- I would continue working with my current model to find a better score"
   ]
  }
 ],
 "metadata": {
  "kernelspec": {
   "display_name": "Python 3",
   "language": "python",
   "name": "python3"
  },
  "language_info": {
   "codemirror_mode": {
    "name": "ipython",
    "version": 3
   },
   "file_extension": ".py",
   "mimetype": "text/x-python",
   "name": "python",
   "nbconvert_exporter": "python",
   "pygments_lexer": "ipython3",
   "version": "3.7.6"
  }
 },
 "nbformat": 4,
 "nbformat_minor": 2
}
